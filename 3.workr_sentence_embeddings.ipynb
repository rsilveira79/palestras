{
 "cells": [
  {
   "cell_type": "code",
   "execution_count": 1,
   "metadata": {
    "slideshow": {
     "slide_type": "skip"
    }
   },
   "outputs": [],
   "source": [
    "import numpy as np\n",
    "import pandas as pd\n",
    "import pickle\n",
    "\n",
    "## Imports\n",
    "import torch\n",
    "import torch.nn as nn\n",
    "import torch.optim as optim\n",
    "from torch.optim import lr_scheduler\n",
    "\n",
    "## Embeddings\n",
    "from flair.data import Sentence\n",
    "from flair.embeddings import FlairEmbeddings\n",
    "\n",
    "from tqdm import tqdm_notebook"
   ]
  },
  {
   "cell_type": "code",
   "execution_count": 2,
   "metadata": {
    "slideshow": {
     "slide_type": "skip"
    }
   },
   "outputs": [],
   "source": [
    "flair_embedding_forward = FlairEmbeddings('news-forward')"
   ]
  },
  {
   "cell_type": "code",
   "execution_count": 3,
   "metadata": {
    "slideshow": {
     "slide_type": "skip"
    }
   },
   "outputs": [],
   "source": [
    "def get_flair_embedding(sent):\n",
    "    sentence = Sentence(sent)\n",
    "    flair_embedding_forward.embed(sentence)\n",
    "    all_tensors = torch.zeros(flair_embedding_forward.embedding_length)\n",
    "    for token in sentence:\n",
    "        all_tensors+=token.embedding\n",
    "    return all_tensors/len(sentence)"
   ]
  },
  {
   "cell_type": "code",
   "execution_count": 4,
   "metadata": {
    "slideshow": {
     "slide_type": "slide"
    }
   },
   "outputs": [
    {
     "data": {
      "text/plain": [
       "tensor([-2.1368e-04,  8.9829e-05,  5.2767e-02,  ..., -7.1123e-04,\n",
       "         2.0136e-03,  3.9514e-02])"
      ]
     },
     "execution_count": 4,
     "metadata": {},
     "output_type": "execute_result"
    }
   ],
   "source": [
    "cv_1 = 'Software Engineer. \\\n",
    "        Technology, 10 years. \\\n",
    "        Skills: Java, HTML, Javascript, C, pascal.'\n",
    "a = get_flair_embedding(cv_1)\n",
    "a"
   ]
  },
  {
   "cell_type": "code",
   "execution_count": 5,
   "metadata": {
    "slideshow": {
     "slide_type": "subslide"
    }
   },
   "outputs": [
    {
     "data": {
      "text/plain": [
       "tensor([ 3.2856e-04,  4.8051e-05,  5.0970e-02,  ..., -4.1211e-04,\n",
       "         1.1057e-03,  3.3048e-02])"
      ]
     },
     "execution_count": 5,
     "metadata": {},
     "output_type": "execute_result"
    }
   ],
   "source": [
    "cv_2 = 'Senior Software Engineer. \\\n",
    "        Technology, 20 years. \\\n",
    "        Skills: Java, Scrum, Agile, Support, Python, Leadership, TDD, Javascript.'\n",
    "b = get_flair_embedding(cv_2)\n",
    "b"
   ]
  },
  {
   "cell_type": "code",
   "execution_count": 6,
   "metadata": {
    "slideshow": {
     "slide_type": "subslide"
    }
   },
   "outputs": [
    {
     "data": {
      "text/plain": [
       "tensor([ 0.0002, -0.0001,  0.0517,  ..., -0.0013,  0.0014,  0.0140])"
      ]
     },
     "execution_count": 6,
     "metadata": {},
     "output_type": "execute_result"
    }
   ],
   "source": [
    "cv_3 = 'Senior Accountant. \\\n",
    "        Finance, 15 years. \\\n",
    "        Skills: finance, IRS, Tax, SEC Reporting, Revenue Recognition, \\\n",
    "                Consolidation, market and money, financial audit, fiscal and sales.'\n",
    "c = get_flair_embedding(cv_3)\n",
    "c"
   ]
  },
  {
   "cell_type": "code",
   "execution_count": 7,
   "metadata": {
    "slideshow": {
     "slide_type": "subslide"
    }
   },
   "outputs": [
    {
     "data": {
      "text/plain": [
       "tensor([-0.0015,  0.0001,  0.0646,  ..., -0.0005, -0.0007,  0.0196])"
      ]
     },
     "execution_count": 7,
     "metadata": {},
     "output_type": "execute_result"
    }
   ],
   "source": [
    "cv_4 = 'Registered Nurse. \\\n",
    "        Medical. \\\n",
    "        Experience 8 years. \\\n",
    "        Skills: Assess patient health problems and needs, nursing care plans, maintain medical records, medical, hospital.'\n",
    "d = get_flair_embedding(cv_4)\n",
    "d"
   ]
  },
  {
   "cell_type": "code",
   "execution_count": 8,
   "metadata": {},
   "outputs": [],
   "source": [
    "def get_cosine_distance(text_1, text_2):\n",
    "    cos = nn.CosineSimilarity(dim=0, eps=1e-6)\n",
    "    cos_sim = cos(text_1, text_2)\n",
    "    return cos_sim.detach().numpy()"
   ]
  },
  {
   "cell_type": "code",
   "execution_count": 9,
   "metadata": {
    "slideshow": {
     "slide_type": "slide"
    }
   },
   "outputs": [
    {
     "data": {
      "text/plain": [
       "array(0.91287076, dtype=float32)"
      ]
     },
     "execution_count": 9,
     "metadata": {},
     "output_type": "execute_result"
    }
   ],
   "source": [
    "get_cosine_distance(a, b)"
   ]
  },
  {
   "cell_type": "code",
   "execution_count": 10,
   "metadata": {},
   "outputs": [
    {
     "data": {
      "text/plain": [
       "array(0.73176783, dtype=float32)"
      ]
     },
     "execution_count": 10,
     "metadata": {},
     "output_type": "execute_result"
    }
   ],
   "source": [
    "get_cosine_distance(a, c)"
   ]
  },
  {
   "cell_type": "code",
   "execution_count": 11,
   "metadata": {},
   "outputs": [
    {
     "data": {
      "text/plain": [
       "array(0.7983488, dtype=float32)"
      ]
     },
     "execution_count": 11,
     "metadata": {},
     "output_type": "execute_result"
    }
   ],
   "source": [
    "get_cosine_distance(b, c)"
   ]
  },
  {
   "cell_type": "code",
   "execution_count": 12,
   "metadata": {},
   "outputs": [
    {
     "data": {
      "text/plain": [
       "array(0.7465023, dtype=float32)"
      ]
     },
     "execution_count": 12,
     "metadata": {},
     "output_type": "execute_result"
    }
   ],
   "source": [
    "get_cosine_distance(a, d)"
   ]
  },
  {
   "cell_type": "code",
   "execution_count": 13,
   "metadata": {},
   "outputs": [],
   "source": [
    "def get_flair_embedding_batch(sent_list):\n",
    "    size_array = len(sent_list)\n",
    "    tensor_array = torch.full((len(sent_list), flair_embedding_forward.embedding_length), fill_value = 0)\n",
    "    for i,sent in enumerate(sent_list):\n",
    "        sentence = Sentence(sent)\n",
    "        flair_embedding_forward.embed(sentence)\n",
    "        all_tensors = torch.zeros(flair_embedding_forward.embedding_length)\n",
    "        for token in sentence:\n",
    "            all_tensors+=token.embedding\n",
    "        all_tensors_avg = all_tensors/len(sentence)\n",
    "        tensor_array[i]=all_tensors_avg\n",
    "    return tensor_array"
   ]
  },
  {
   "cell_type": "code",
   "execution_count": 14,
   "metadata": {},
   "outputs": [],
   "source": [
    "CV = ['Software Engineer. Technology, 10 years. Java, HTML, Javascript, programming, C, pascal.',\n",
    "      'Senior Software Engineer. Technology, 20 years. Java, Scrum, Agile, Support, programming, Python, Leadership, TDD, Javascript.',\n",
    "      'Software Architect. Technology, 22 years. Oracle, programming, Java, NoSQL, Javascript,programming, Python, Go.',\n",
    "      'Quality Assurance. Technology, 15 years. Test, Automation, Java, TDD, Python, Regression, Requirements.',\n",
    "      'Software Associate. Technology, 4 years. programming,Javascript, React, Angular, AWS, Python.',\n",
    "      'Staff Accountant. Finance, 15 years. IRS, Tax, SEC Reporting, Revenue Recognition, Consolidation, market and money, financial audit, fiscal and sales.',\n",
    "      'Senior Accountant. Finance, 18 years. Tax, IRS, SEC Reporting, Consolidation, market, Investments, sales Credit.',\n",
    "      'Controller Accountant. Finance, 22 years. Management, SEC Reporting, Balance, sales, market, Consolidation, Revenue, Investments, audit.',\n",
    "      'Registered Nurse. Health, 8 years. nurse, Assess patient health problems and needs, nursing care plans, maintain medical records, medical, hospital',\n",
    "      'Certified Nurse. Health, 16 years. nurse, Lead, Assess patient health, treatment care plans, hospital, disease, medical records, clinical support',\n",
    "      'Doctor Cardiologist. Health, 22 years. Specialist cardiovascular system, patient health, treatment, disease, medical, clinical',\n",
    "      'Dog Walker. Pets, 5 years. pet shop, free time, dog, walk, breed, pet, Sizes.',\n",
    "      'Dog Trainer. Pets, 12 years. train dogs, walk, pet, sit, breed.']"
   ]
  },
  {
   "cell_type": "code",
   "execution_count": 15,
   "metadata": {},
   "outputs": [
    {
     "data": {
      "text/plain": [
       "array([[-6.5771263e-04,  8.0511680e-05,  4.6026826e-02, ...,\n",
       "        -7.4252434e-04,  2.0028404e-03,  9.8375203e-03],\n",
       "       [ 6.0832677e-05,  4.1906558e-05,  4.0458295e-02, ...,\n",
       "        -4.4369049e-04,  1.5165529e-03,  1.2745690e-02],\n",
       "       [-1.2281629e-04,  7.8610356e-05,  5.6769665e-02, ...,\n",
       "        -6.5909867e-04,  1.5011750e-03,  1.5140942e-02],\n",
       "       ...,\n",
       "       [-4.0000267e-03, -2.2277063e-04,  2.6935663e-02, ...,\n",
       "        -4.2832500e-04,  7.2486778e-03,  1.1031865e-02],\n",
       "       [-8.8872149e-04,  7.5143813e-05,  6.1391313e-02, ...,\n",
       "        -1.3996550e-03,  5.3869635e-03,  1.1651233e-02],\n",
       "       [-1.6720123e-03,  6.9143716e-06,  6.9138773e-02, ...,\n",
       "        -8.7984779e-04,  2.8442882e-03,  9.2840111e-03]], dtype=float32)"
      ]
     },
     "execution_count": 15,
     "metadata": {},
     "output_type": "execute_result"
    }
   ],
   "source": [
    "all_cvs_numpy = get_flair_embedding_batch(CV).detach().numpy()\n",
    "all_cvs_numpy"
   ]
  },
  {
   "cell_type": "code",
   "execution_count": 16,
   "metadata": {},
   "outputs": [],
   "source": [
    "## Plot embeddings in low dim space\n",
    "%matplotlib inline\n",
    "from sklearn.manifold import TSNE\n",
    "import matplotlib.pyplot as plt"
   ]
  },
  {
   "cell_type": "code",
   "execution_count": 17,
   "metadata": {},
   "outputs": [
    {
     "name": "stdout",
     "output_type": "stream",
     "text": [
      "[t-SNE] Computing pairwise distances...\n",
      "[t-SNE] Computed conditional probabilities for sample 13 / 13\n",
      "[t-SNE] Mean sigma: 0.388189\n",
      "[t-SNE] KL divergence after 250 iterations with early exaggeration: 48.791545\n",
      "[t-SNE] Error after 1000 iterations: 0.033526\n"
     ]
    },
    {
     "data": {
      "text/plain": [
       "array([[  61.393772 ,  210.44131  ],\n",
       "       [ -22.319456 ,  176.35207  ],\n",
       "       [  37.4257   ,  219.85973  ],\n",
       "       [   2.2234378,  197.22267  ],\n",
       "       [  47.028652 ,  253.84135  ],\n",
       "       [-287.2703   ,   46.88476  ],\n",
       "       [-266.99817  ,   62.57724  ],\n",
       "       [-242.86165  ,   79.79485  ],\n",
       "       [ 359.0911   ,  -73.26791  ],\n",
       "       [ 370.73993  ,  -51.038296 ],\n",
       "       [ 399.6566   ,  -68.88677  ],\n",
       "       [ 147.78403  ,  -94.322174 ],\n",
       "       [ 171.34845  ,  -95.17307  ]], dtype=float32)"
      ]
     },
     "execution_count": 17,
     "metadata": {},
     "output_type": "execute_result"
    }
   ],
   "source": [
    "## Convert vectors to TSNE\n",
    "tsne=TSNE(n_components=2, perplexity=2, method ='exact', verbose=1)\n",
    "sentences_tsne = tsne.fit_transform(all_cvs_numpy)\n",
    "sentences_tsne"
   ]
  },
  {
   "cell_type": "code",
   "execution_count": 18,
   "metadata": {},
   "outputs": [
    {
     "data": {
      "image/png": "[encoded data removed]",
      "text/plain": [
       "<Figure size 1920x960 with 1 Axes>"
      ]
     },
     "metadata": {},
     "output_type": "display_data"
    }
   ],
   "source": [
    "plt.figure(num=None, figsize=(16, 8), dpi=120, facecolor='w', edgecolor='k')\n",
    "plt.grid()\n",
    "plt.scatter(sentences_tsne[:,0], sentences_tsne[:,1])\n",
    "for label, x, y in zip(CV,sentences_tsne[:,0], sentences_tsne[:,1]):\n",
    "    font = {'size' : 12, 'weight' : 'normal'}\n",
    "    plt.rc('font', **font)\n",
    "    plt.annotate(label.split('.')[0], xy=(x, y), xytext=(0, 0), textcoords='offset points')"
   ]
  },
  {
   "cell_type": "markdown",
   "metadata": {},
   "source": [
    "## Calculate Nearest CVs"
   ]
  },
  {
   "cell_type": "code",
   "execution_count": 19,
   "metadata": {},
   "outputs": [],
   "source": [
    "### Get distance function\n",
    "def calculate_nearest_job(query_text, topn=3, query_type='full'):\n",
    "    text_distances = pd.DataFrame(columns=['Job Title', 'Distance'])\n",
    "    query_embedding = get_flair_embedding(query_text)\n",
    "    for i, txt in enumerate(CV):\n",
    "        dist = get_cosine_distance(query_embedding,torch.tensor(all_cvs_numpy[i]))\n",
    "        text_distances.loc[i]=[CV[i].split('.')[0],dist]\n",
    "    text_distances= text_distances.sort_values(by=['Distance'], ascending = False).reset_index(drop=True)[0:topn]\n",
    "    return text_distances"
   ]
  },
  {
   "cell_type": "code",
   "execution_count": 20,
   "metadata": {},
   "outputs": [
    {
     "data": {
      "text/html": [
       "<div>\n",
       "<style scoped>\n",
       "    .dataframe tbody tr th:only-of-type {\n",
       "        vertical-align: middle;\n",
       "    }\n",
       "\n",
       "    .dataframe tbody tr th {\n",
       "        vertical-align: top;\n",
       "    }\n",
       "\n",
       "    .dataframe thead th {\n",
       "        text-align: right;\n",
       "    }\n",
       "</style>\n",
       "<table border=\"1\" class=\"dataframe\">\n",
       "  <thead>\n",
       "    <tr style=\"text-align: right;\">\n",
       "      <th></th>\n",
       "      <th>Job Title</th>\n",
       "      <th>Distance</th>\n",
       "    </tr>\n",
       "  </thead>\n",
       "  <tbody>\n",
       "    <tr>\n",
       "      <th>0</th>\n",
       "      <td>Software Associate</td>\n",
       "      <td>0.37716335</td>\n",
       "    </tr>\n",
       "    <tr>\n",
       "      <th>1</th>\n",
       "      <td>Software Engineer</td>\n",
       "      <td>0.36852717</td>\n",
       "    </tr>\n",
       "  </tbody>\n",
       "</table>\n",
       "</div>"
      ],
      "text/plain": [
       "            Job Title    Distance\n",
       "0  Software Associate  0.37716335\n",
       "1   Software Engineer  0.36852717"
      ]
     },
     "execution_count": 20,
     "metadata": {},
     "output_type": "execute_result"
    }
   ],
   "source": [
    "query_text = \"I would like to work with programming languages like Java\"\n",
    "calculate_nearest_job(query_text, topn=2)"
   ]
  },
  {
   "cell_type": "code",
   "execution_count": 21,
   "metadata": {},
   "outputs": [
    {
     "data": {
      "text/html": [
       "<div>\n",
       "<style scoped>\n",
       "    .dataframe tbody tr th:only-of-type {\n",
       "        vertical-align: middle;\n",
       "    }\n",
       "\n",
       "    .dataframe tbody tr th {\n",
       "        vertical-align: top;\n",
       "    }\n",
       "\n",
       "    .dataframe thead th {\n",
       "        text-align: right;\n",
       "    }\n",
       "</style>\n",
       "<table border=\"1\" class=\"dataframe\">\n",
       "  <thead>\n",
       "    <tr style=\"text-align: right;\">\n",
       "      <th></th>\n",
       "      <th>Job Title</th>\n",
       "      <th>Distance</th>\n",
       "    </tr>\n",
       "  </thead>\n",
       "  <tbody>\n",
       "    <tr>\n",
       "      <th>0</th>\n",
       "      <td>Registered Nurse</td>\n",
       "      <td>0.37239107</td>\n",
       "    </tr>\n",
       "    <tr>\n",
       "      <th>1</th>\n",
       "      <td>Doctor Cardiologist</td>\n",
       "      <td>0.3476591</td>\n",
       "    </tr>\n",
       "  </tbody>\n",
       "</table>\n",
       "</div>"
      ],
      "text/plain": [
       "             Job Title    Distance\n",
       "0     Registered Nurse  0.37239107\n",
       "1  Doctor Cardiologist   0.3476591"
      ]
     },
     "execution_count": 21,
     "metadata": {},
     "output_type": "execute_result"
    }
   ],
   "source": [
    "query_text = \"I have experience treating patients\"\n",
    "calculate_nearest_job(query_text, topn=2)"
   ]
  },
  {
   "cell_type": "code",
   "execution_count": 22,
   "metadata": {},
   "outputs": [
    {
     "data": {
      "text/html": [
       "<div>\n",
       "<style scoped>\n",
       "    .dataframe tbody tr th:only-of-type {\n",
       "        vertical-align: middle;\n",
       "    }\n",
       "\n",
       "    .dataframe tbody tr th {\n",
       "        vertical-align: top;\n",
       "    }\n",
       "\n",
       "    .dataframe thead th {\n",
       "        text-align: right;\n",
       "    }\n",
       "</style>\n",
       "<table border=\"1\" class=\"dataframe\">\n",
       "  <thead>\n",
       "    <tr style=\"text-align: right;\">\n",
       "      <th></th>\n",
       "      <th>Job Title</th>\n",
       "      <th>Distance</th>\n",
       "    </tr>\n",
       "  </thead>\n",
       "  <tbody>\n",
       "    <tr>\n",
       "      <th>0</th>\n",
       "      <td>Dog Trainer</td>\n",
       "      <td>0.3259395</td>\n",
       "    </tr>\n",
       "    <tr>\n",
       "      <th>1</th>\n",
       "      <td>Dog Walker</td>\n",
       "      <td>0.29722333</td>\n",
       "    </tr>\n",
       "  </tbody>\n",
       "</table>\n",
       "</div>"
      ],
      "text/plain": [
       "     Job Title    Distance\n",
       "0  Dog Trainer   0.3259395\n",
       "1   Dog Walker  0.29722333"
      ]
     },
     "execution_count": 22,
     "metadata": {},
     "output_type": "execute_result"
    }
   ],
   "source": [
    "query_text = \"I like dogs\"\n",
    "calculate_nearest_job(query_text, topn=2)"
   ]
  },
  {
   "cell_type": "code",
   "execution_count": null,
   "metadata": {},
   "outputs": [],
   "source": []
  }
 ],
 "metadata": {
  "celltoolbar": "Slideshow",
  "kernelspec": {
   "display_name": "Python (nlp_new)",
   "language": "python",
   "name": "nlp_new"
  },
  "language_info": {
   "codemirror_mode": {
    "name": "ipython",
    "version": 3
   },
   "file_extension": ".py",
   "mimetype": "text/x-python",
   "name": "python",
   "nbconvert_exporter": "python",
   "pygments_lexer": "ipython3",
   "version": "3.6.3"
  }
 },
 "nbformat": 4,
 "nbformat_minor": 2
}
